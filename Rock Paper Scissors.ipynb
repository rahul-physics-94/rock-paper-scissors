{
 "cells": [
  {
   "cell_type": "code",
   "execution_count": 28,
   "id": "e096ce3b-a362-4d23-bd02-67e5ac16320e",
   "metadata": {},
   "outputs": [
    {
     "name": "stdin",
     "output_type": "stream",
     "text": [
      "Choose between rock, paper, and scissors: rock\n"
     ]
    },
    {
     "name": "stdout",
     "output_type": "stream",
     "text": [
      "Play Again\n"
     ]
    },
    {
     "name": "stdin",
     "output_type": "stream",
     "text": [
      "Do you want you play again y/n: y\n",
      "Choose between rock, paper, and scissors: rock\n"
     ]
    },
    {
     "name": "stdout",
     "output_type": "stream",
     "text": [
      "You Win\n"
     ]
    },
    {
     "name": "stdin",
     "output_type": "stream",
     "text": [
      "Do you want you play again y/n: y\n",
      "Choose between rock, paper, and scissors: scissors\n"
     ]
    },
    {
     "name": "stdout",
     "output_type": "stream",
     "text": [
      "computer wins\n"
     ]
    },
    {
     "name": "stdin",
     "output_type": "stream",
     "text": [
      "Do you want you play again y/n: n\n"
     ]
    }
   ],
   "source": [
    "import random\n",
    "\n",
    "while True:\n",
    "    user_input = input('Choose between rock, paper, and scissors:')\n",
    "    possible_choices = [\"rock\", \"paper\", \"scissors\"]\n",
    "    computer_input = random.choices (possible_choices)[0]\n",
    "    if user_input == computer_input:\n",
    "        print('Play Again')\n",
    "    elif user_input == 'rock' and computer_input == 'scissors':\n",
    "        print('You Win')\n",
    "    elif user_input == 'rock' and computer_input == 'paper':\n",
    "        print ('Computer Wins')\n",
    "    elif user_input == 'paper' and computer_input == 'scissors':\n",
    "        print ('Computer Wins')\n",
    "    elif user_input == 'paper' and computer_input == 'rock':\n",
    "        print ('You Win')\n",
    "    elif user_input == 'scissors' and computer_input == 'rock':\n",
    "        print('computer wins')\n",
    "    elif user_input == 'scissors' and computer_input == 'paper':\n",
    "        print ('You Win')\n",
    "    play_again = input('Do you want you play again y/n:' )\n",
    "    if play_again.lower() != 'y':\n",
    "        break"
   ]
  },
  {
   "cell_type": "code",
   "execution_count": 27,
   "id": "5cf94ef1-bc8b-4761-aa62-a81eab79e442",
   "metadata": {},
   "outputs": [
    {
     "name": "stdout",
     "output_type": "stream",
     "text": [
      "rock\n"
     ]
    }
   ],
   "source": [
    "print(computer_input)"
   ]
  },
  {
   "cell_type": "code",
   "execution_count": null,
   "id": "c4b662ce-23df-4624-b887-cf01d9d565cc",
   "metadata": {},
   "outputs": [],
   "source": []
  }
 ],
 "metadata": {
  "kernelspec": {
   "display_name": "Python 3 (ipykernel)",
   "language": "python",
   "name": "python3"
  },
  "language_info": {
   "codemirror_mode": {
    "name": "ipython",
    "version": 3
   },
   "file_extension": ".py",
   "mimetype": "text/x-python",
   "name": "python",
   "nbconvert_exporter": "python",
   "pygments_lexer": "ipython3",
   "version": "3.8.13"
  }
 },
 "nbformat": 4,
 "nbformat_minor": 5
}
